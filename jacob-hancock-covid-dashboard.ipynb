{
 "cells": [
  {
   "cell_type": "markdown",
   "metadata": {},
   "source": [
    "# **COVID-19 Deaths** #\n",
    "### September 2020 - Present ###\n",
    "\n",
    "These graphs are a representation of COVID-19 data in the UK by region, from September 2020 onwards.\n",
    "\n",
    "If this is your first time viewing these graph the data displayed in them will be a stored representation, and may be out of date. Press refresh and re-select areas for the most recent statistics.  \n",
    "\n",
    "#### Data Sources ####\n",
    "\n",
    "All data used is supplied by the UK government via Public Health England."
   ]
  },
  {
   "cell_type": "code",
   "execution_count": 1,
   "metadata": {},
   "outputs": [],
   "source": [
    "from uk_covid19 import Cov19API\n",
    "import json\n",
    "import pandas as pd\n",
    "import matplotlib.pyplot as plt\n",
    "import ipywidgets as wdg\n",
    "\n",
    "%matplotlib inline\n",
    "plt.rcParams['figure.dpi'] = 200"
   ]
  },
  {
   "cell_type": "markdown",
   "metadata": {},
   "source": [
    "## **Comparing Daily New Deaths And Cases** ##\n",
    "\n",
    "This graph is a representation of all daily new cases and deaths of COVID-19."
   ]
  },
  {
   "cell_type": "code",
   "execution_count": 2,
   "metadata": {},
   "outputs": [
    {
     "data": {
      "application/vnd.jupyter.widget-view+json": {
       "model_id": "67beaf0d25e445e5ab85f3b5079d8276",
       "version_major": 2,
       "version_minor": 0
      },
      "text/plain": [
       "HBox(children=(Output(), VBox(children=(SelectMultiple(description='Stats:', index=(0, 1, 2, 3, 4, 5, 6, 7, 8)…"
      ]
     },
     "metadata": {},
     "output_type": "display_data"
    },
    {
     "data": {
      "application/vnd.jupyter.widget-view+json": {
       "model_id": "2ccc6a7dc5b7458e8bd3b3e578719fe7",
       "version_major": 2,
       "version_minor": 0
      },
      "text/plain": [
       "Button(description='Refresh data', icon='refresh', style=ButtonStyle(), tooltip='Click to download current Pub…"
      ]
     },
     "metadata": {},
     "output_type": "display_data"
    }
   ],
   "source": [
    "from cases_deaths import start"
   ]
  },
  {
   "cell_type": "code",
   "execution_count": 3,
   "metadata": {},
   "outputs": [],
   "source": [
    "# determines whether json data will be loaded locally (to provide a visual output pre-API call) \n",
    "refreshCount = 0"
   ]
  },
  {
   "cell_type": "code",
   "execution_count": 4,
   "metadata": {},
   "outputs": [],
   "source": [
    "# loads local json file\n",
    "\n",
    "with open(\"initialJSON.json\", \"rt\") as INFILE:\n",
    "    savedJSONdata=json.load(INFILE)"
   ]
  },
  {
   "cell_type": "code",
   "execution_count": 5,
   "metadata": {},
   "outputs": [],
   "source": [
    "# adds one to refresh count\n",
    "def refreshCounter():\n",
    "    global refreshCount\n",
    "    refreshCount += 1\n",
    "    return(refreshCount)"
   ]
  },
  {
   "cell_type": "code",
   "execution_count": 6,
   "metadata": {},
   "outputs": [],
   "source": [
    "# makes API call for cumulative deaths by UK region\n",
    "def refreshAPI():\n",
    "    filters = [\n",
    "    'areaType=region'\n",
    "]\n",
    "\n",
    "    structure = {\n",
    "    'Date': 'date',\n",
    "    'Area': 'areaName',\n",
    "    'Deaths': 'cumDeaths28DaysByPublishDate'\n",
    "}\n",
    "\n",
    "    global api \n",
    "    \n",
    "    api = Cov19API(filters=filters, structure=structure)\n",
    "\n",
    "    global areaCompare\n",
    "\n",
    "    areaCompare = api.get_json()\n",
    "    return(areaCompare)"
   ]
  },
  {
   "cell_type": "code",
   "execution_count": 7,
   "metadata": {},
   "outputs": [],
   "source": [
    "# formats API data into json\n",
    "def newJSON():\n",
    "    \n",
    "    areaCompare = refreshAPI()\n",
    "    \n",
    "    with open(\"areaCompare.json\", \"wt\") as OUTF:\n",
    "        json.dump(areaCompare, OUTF)\n",
    "\n",
    "    jsonfile = open(\"areaCompare.json\", \"r\")\n",
    "    data = jsonfile.readline()\n",
    "    \n",
    "    with open(\"areaCompare.json\", \"rt\") as INFILE:\n",
    "        data=json.load(INFILE)\n",
    "    \n",
    "    \n",
    "    return(data)"
   ]
  },
  {
   "cell_type": "code",
   "execution_count": 8,
   "metadata": {},
   "outputs": [],
   "source": [
    "# determines what json data to display\n",
    "def dataSelect():\n",
    "    x = refreshCounter()\n",
    "    global jsonDF\n",
    "    if x == 1:\n",
    "        jsonDF = savedJSONdata\n",
    "    else:\n",
    "        jsonDF = newJSON()"
   ]
  },
  {
   "cell_type": "code",
   "execution_count": 9,
   "metadata": {},
   "outputs": [],
   "source": [
    "dataSelect()"
   ]
  },
  {
   "cell_type": "code",
   "execution_count": 10,
   "metadata": {},
   "outputs": [],
   "source": [
    "# produces list of dates between 09/2020 and now\n",
    "def wrangleData(jsonDF):\n",
    "    global newdates\n",
    "    global refresh_count\n",
    "    global datalist\n",
    "    \n",
    "    datalist=jsonDF['data']\n",
    "    dates=[dictionary['Date'] for dictionary in datalist]\n",
    "    \n",
    "    dates.sort()\n",
    "    dates = list(dict.fromkeys(dates))\n",
    "    \n",
    "    newdates = []\n",
    "    \n",
    "    for date in dates:\n",
    "        if date[0:7] != '2020-08':\n",
    "            x = date\n",
    "            newdates.append(x)\n",
    "    \n",
    "    return(newdates)\n",
    "    #return(datalist)\n"
   ]
  },
  {
   "cell_type": "code",
   "execution_count": 11,
   "metadata": {},
   "outputs": [],
   "source": [
    "# puts data into nested dictionary format - {date:[area:deaths, area:deaths..], date:[area:deaths...] etc., \n",
    "def datedictionary():\n",
    "    global newdates\n",
    "    global datalist\n",
    "    newdates = wrangleData(jsonDF)\n",
    "    datedict = {}\n",
    "\n",
    "    for date in newdates:\n",
    "        datedict[date] = {}\n",
    "\n",
    "    for dictionary in datalist:\n",
    "        for entry in datedict:\n",
    "            if dictionary['Date'] == entry:\n",
    "                tempdict = {dictionary['Area']: dictionary['Deaths']}\n",
    "                datedict[entry].update(tempdict)\n",
    "    \n",
    "    return(datedict)"
   ]
  },
  {
   "cell_type": "code",
   "execution_count": 12,
   "metadata": {},
   "outputs": [],
   "source": [
    "def parse_date(datestring):\n",
    "    \"\"\" Convert a date string into a pandas datetime object \"\"\"\n",
    "    return pd.to_datetime(datestring, format=\"%Y-%m-%d\")"
   ]
  },
  {
   "cell_type": "code",
   "execution_count": 13,
   "metadata": {},
   "outputs": [],
   "source": [
    "# sets up the empty dataframe with dates as index\n",
    "def makeDataframe():\n",
    "    global datedict\n",
    "    global areaComparedf\n",
    "    datedict = datedictionary()\n",
    "    startdate=parse_date(list(datedict)[0])\n",
    "    enddate=parse_date(list(datedict)[-1])\n",
    "\n",
    "    index=pd.date_range(startdate, enddate, freq='D')\n",
    "    areaComparedf = pd.DataFrame(index=index, columns=['South East', 'Yorkshire and The Humber', 'North East',\n",
    "                                                 'East Midlands', 'London', 'South West',\n",
    "                                                 'North West', 'West Midlands',\n",
    "                                                 'East of England'])\n",
    "    return areaComparedf"
   ]
  },
  {
   "cell_type": "code",
   "execution_count": 14,
   "metadata": {},
   "outputs": [],
   "source": [
    "# populates dataframe from nested dictionary\n",
    "def populateDataframe():\n",
    "    areaComparedf = makeDataframe()\n",
    "    for entry in datedict:\n",
    "        date=parse_date(entry)\n",
    "    #for dicto in datedict:\n",
    "        for column in ['South East', 'Yorkshire and The Humber', 'North East',\n",
    "                                                 'East Midlands', 'London', 'South West',\n",
    "                                                 'North West', 'West Midlands',\n",
    "                                                 'East of England']:\n",
    "\n",
    "            if pd.isna(areaComparedf.loc[date, column]): \n",
    "\n",
    "                try:\n",
    "                    value= (datedict[entry][column]) if (datedict[entry][column])!=None else 0.0\n",
    "                    areaComparedf.loc[date, column]=value\n",
    "                except Exception:\n",
    "                    pass\n",
    "    \n",
    "            # fill in any remaining \"holes\" due to missing dates\n",
    "    areaComparedf.fillna(0.0, inplace=True)\n",
    "            \n",
    "    return(areaComparedf)"
   ]
  },
  {
   "cell_type": "code",
   "execution_count": 15,
   "metadata": {},
   "outputs": [],
   "source": [
    "# plots graph\n",
    "def plotData():\n",
    "    global graph\n",
    "    data = populateDataframe()\n",
    "    areaCompare_graph = data.plot()\n",
    "    graph = (areaCompare_graph)\n",
    "    return(graph)"
   ]
  },
  {
   "cell_type": "code",
   "execution_count": 16,
   "metadata": {},
   "outputs": [],
   "source": [
    "# sets up selection widget implements widget on final graph\n",
    "\n",
    "areaComparedf = populateDataframe()\n",
    "\n",
    "series=wdg.SelectMultiple(\n",
    "options=['South East', 'Yorkshire and The Humber', 'North East',\n",
    "                                                 'East Midlands', 'London', 'South West',\n",
    "                                                 'North West', 'West Midlands',\n",
    "                                                 'East of England'],\n",
    "value=['South East', 'Yorkshire and The Humber', 'North East',\n",
    "                                                 'East Midlands', 'London', 'South West',\n",
    "                                                 'North West', 'West Midlands',\n",
    "                                                 'East of England'],\n",
    "rows=9,\n",
    "description='Stats:',\n",
    "disabled=False\n",
    ")\n",
    "\n",
    "controls=wdg.VBox([series])\n",
    "\n",
    "def setControls(gcols):\n",
    "    ncols=len(gcols)\n",
    "    if ncols>0:\n",
    "        areaComparedf[list(gcols)].plot()\n",
    "    else:\n",
    "        print(\"Click to select data for graph\")\n",
    "        print(\"(CTRL-Click to select more than one category)\")\n",
    "  \n",
    "\n",
    "def finalGraph():\n",
    "    graph=wdg.interactive_output(setControls, {'gcols': series})\n",
    "\n",
    "    #display(controls, graph)\n",
    "    combined = wdg.HBox([graph, controls])\n",
    "    display(combined)"
   ]
  },
  {
   "cell_type": "code",
   "execution_count": 17,
   "metadata": {},
   "outputs": [],
   "source": [
    "#sets functionality of refresh button, calling API, looping through all steps and adding to refresh counter\n",
    "\n",
    "def access_api(button):\n",
    "    refreshAPI()\n",
    "    dataSelect()\n",
    "    newJSON()\n",
    "    wrangleData(jsonDF)\n",
    "    datedictionary()\n",
    "    makeDataframe()\n",
    "    populateDataframe()\n",
    "    refreshCounter()\n",
    "    print(\"I'm downloading data from the API...\")\n",
    "    print(\"...all done.\")"
   ]
  },
  {
   "cell_type": "code",
   "execution_count": 18,
   "metadata": {},
   "outputs": [],
   "source": [
    "# determines style of refresh button\n",
    "apibutton=wdg.Button(\n",
    "    description='Refresh data',\n",
    "    disabled=False,\n",
    "    button_style='', # 'success', 'info', 'warning', 'danger' or ''\n",
    "    tooltip='Click to download current Public Health England data',\n",
    "    icon='refresh' # (FontAwesome names without the `fa-` prefix)\n",
    ")\n",
    "\n",
    "apibutton.on_click(access_api)"
   ]
  },
  {
   "cell_type": "code",
   "execution_count": 19,
   "metadata": {},
   "outputs": [],
   "source": [
    "def start():\n",
    "    finalGraph()\n",
    "    display(apibutton)"
   ]
  },
  {
   "cell_type": "markdown",
   "metadata": {},
   "source": [
    "## **Comparing Deaths By Region** ##\n",
    "\n",
    "This graph is a representation of all deaths from COVID-19 across every UK region, measured cumulatively."
   ]
  },
  {
   "cell_type": "code",
   "execution_count": 20,
   "metadata": {},
   "outputs": [
    {
     "data": {
      "application/vnd.jupyter.widget-view+json": {
       "model_id": "76c26a3345cb4cd4a1003048452ba807",
       "version_major": 2,
       "version_minor": 0
      },
      "text/plain": [
       "HBox(children=(Output(), VBox(children=(SelectMultiple(description='Stats:', index=(0, 1, 2, 3, 4, 5, 6, 7, 8)…"
      ]
     },
     "metadata": {},
     "output_type": "display_data"
    },
    {
     "data": {
      "application/vnd.jupyter.widget-view+json": {
       "model_id": "40fbfbbca25d4f0584cbaf96222ca923",
       "version_major": 2,
       "version_minor": 0
      },
      "text/plain": [
       "Button(description='Refresh data', icon='refresh', style=ButtonStyle(), tooltip='Click to download current Pub…"
      ]
     },
     "metadata": {},
     "output_type": "display_data"
    }
   ],
   "source": [
    "start()"
   ]
  },
  {
   "cell_type": "markdown",
   "metadata": {},
   "source": []
  },
  {
   "cell_type": "code",
   "execution_count": null,
   "metadata": {},
   "outputs": [],
   "source": []
  },
  {
   "cell_type": "code",
   "execution_count": null,
   "metadata": {},
   "outputs": [],
   "source": []
  },
  {
   "cell_type": "code",
   "execution_count": null,
   "metadata": {},
   "outputs": [],
   "source": []
  }
 ],
 "metadata": {
  "kernelspec": {
   "display_name": "Python 3",
   "language": "python",
   "name": "python3"
  },
  "language_info": {
   "codemirror_mode": {
    "name": "ipython",
    "version": 3
   },
   "file_extension": ".py",
   "mimetype": "text/x-python",
   "name": "python",
   "nbconvert_exporter": "python",
   "pygments_lexer": "ipython3",
   "version": "3.8.3"
  }
 },
 "nbformat": 4,
 "nbformat_minor": 4
}
